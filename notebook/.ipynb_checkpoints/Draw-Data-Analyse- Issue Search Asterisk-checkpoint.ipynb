{
 "cells": [
  {
   "cell_type": "code",
   "execution_count": 2,
   "metadata": {},
   "outputs": [],
   "source": [
    "from urllib.request import urlopen\n",
    "from urllib.error import HTTPError,URLError\n",
    "from bs4 import BeautifulSoup"
   ]
  },
  {
   "cell_type": "code",
   "execution_count": 71,
   "metadata": {},
   "outputs": [],
   "source": [
    "\n",
    "### WebPage Classe:\n",
    "class HeadContent:\n",
    "    \"\"\"\n",
    "    Classe-base com os parametros principais da pagina head\n",
    "    \"\"\"\n",
    "    def __init__(self,issue,project,issue_key,url):\n",
    "        self.issue = issue\n",
    "        self.project = project\n",
    "        self.issue_key = issue_key\n",
    "        self.url = url\n",
    "        \n",
    "    def print(self):\n",
    "        print(\"--- Head --- \\n\")\n",
    "        print(f\"Issue = {self.issue} \\n\")\n",
    "        print(f\"Project = {self.project} \\n\")\n",
    "        print(f\"Key = {self.issue_key} \\n\")\n",
    "        print(f\"URL = {self.url} \\n\")\n",
    "\n",
    "\n",
    "class Crawler:\n",
    "    \"\"\"\n",
    "    Classe Para Buscar Paginas bem como fazer o Parser\n",
    "    \"\"\"\n",
    "    \n",
    "    def getPage(self,url):\n",
    "        # Conferir se a pagina foi encontrada ou servidor nao foi achado\n",
    "        try:\n",
    "            html = urlopen(url)\n",
    "        except HTTPError as e:\n",
    "            return None\n",
    "        except URLError as e:\n",
    "            return None\n",
    "\n",
    "        # Se for acessar uma tag conferir se ela existe\n",
    "        try:\n",
    "            bs = BeautifulSoup(html.read(),'html.parser')\n",
    "        except AttributeError as e:\n",
    "            return None\n",
    "\n",
    "        return(bs)\n",
    "    \n",
    "    \n",
    "    def parserHead(self,header):\n",
    "        \"\"\"\n",
    "        Parser para coletar dados do header\n",
    "        \"\"\"\n",
    "        try:\n",
    "            header_title = (header.h1).get_text()\n",
    "        except:\n",
    "            header_title = None\n",
    "            \n",
    "        try:\n",
    "            header_metadata = header.ol.findAll('a')\n",
    "        except:\n",
    "            header_metadata = None\n",
    "        finally:\n",
    "            if(header_metadata != None):\n",
    "                project_name = header_metadata[0].get_text()\n",
    "                issue_key = header_metadata[1].get_text() if (header_metadata[1].get_text() != None or header_metadata[1].get_text() != '') else header_metadata[1]['data-issue-key']\n",
    "                relative_path = header_metadata[1]['href']\n",
    "            else:\n",
    "                project_name = None\n",
    "                issue_key = None\n",
    "                relative_path = None\n",
    "        \n",
    "        head = HeadContent(header_title,project_name,issue_key,relative_path)\n",
    "        return(head)\n",
    "    \n",
    "    def core(self,url):\n",
    "        bs = self.getPage(url)\n",
    "        \n",
    "        if(bs != None):\n",
    "            header_content = bs.find('div',{'class':'aui-page-header-main'})\n",
    "            head = self.parserHead(header_content)\n",
    "            head.print()\n",
    "        \n",
    "        \n",
    "        \n",
    "    \n",
    "    \n"
   ]
  },
  {
   "cell_type": "code",
   "execution_count": 72,
   "metadata": {},
   "outputs": [
    {
     "name": "stdout",
     "output_type": "stream",
     "text": [
      "--- Head --- \n",
      "\n",
      "Issue = No Application SIPAddHeader() \n",
      "\n",
      "Project = Asterisk \n",
      "\n",
      "Key = ASTERISK-28918 \n",
      "\n",
      "URL = /jira/browse/ASTERISK-28918 \n",
      "\n"
     ]
    }
   ],
   "source": [
    "\n",
    "url = 'https://issues.asterisk.org/jira/browse/ASTERISK-28918'\n",
    "\n",
    "\n",
    "crawler = Crawler()\n",
    "\n",
    "crawler.core(url)\n",
    "    \n",
    "    \n",
    "    \n",
    "    \n",
    "\n",
    "    \n",
    "    \n",
    "#<div class=\"aui-page-header-main\">\n",
    "\n"
   ]
  },
  {
   "cell_type": "code",
   "execution_count": 111,
   "metadata": {},
   "outputs": [],
   "source": [
    "url = 'https://issues.asterisk.org/jira/browse/ASTERISK-28918'\n",
    "html = urlopen(url)\n",
    "bs = BeautifulSoup(html.read(),'html.parser')\n",
    "\n",
    "main_content = bs.find('div',{'id':'details-module'})\n",
    "\n",
    "detail = main_content.find('div',{'class':'mod-content'})\n",
    "\n",
    "dt = detail.find_all('li',{'class':'item'})\n",
    "\n",
    "list_key = []\n",
    "for a in dt:\n",
    "    field = a.find('strong',{'class':'name'}).get_text().replace('\\n', '').replace(':','')\n",
    "    \n",
    "    \n",
    "    try:\n",
    "        key = a.find(['span','div'],{'class':'value'}).get_text().strip()\n",
    "    except:\n",
    "        key = None\n",
    "    list_key.append(key)\n",
    "    \n",
    "        \n",
    "\n"
   ]
  },
  {
   "cell_type": "code",
   "execution_count": 112,
   "metadata": {},
   "outputs": [
    {
     "data": {
      "text/plain": [
       "['Bug',\n",
       " 'Closed',\n",
       " 'Major',\n",
       " 'Not A Bug',\n",
       " '17.4.0',\n",
       " 'None',\n",
       " 'Applications/General',\n",
       " 'None',\n",
       " 'None',\n",
       " 'CentOS x64']"
      ]
     },
     "execution_count": 112,
     "metadata": {},
     "output_type": "execute_result"
    }
   ],
   "source": [
    "list_key"
   ]
  },
  {
   "cell_type": "code",
   "execution_count": null,
   "metadata": {},
   "outputs": [],
   "source": []
  }
 ],
 "metadata": {
  "kernelspec": {
   "display_name": "Python 3",
   "language": "python",
   "name": "python3"
  },
  "language_info": {
   "codemirror_mode": {
    "name": "ipython",
    "version": 3
   },
   "file_extension": ".py",
   "mimetype": "text/x-python",
   "name": "python",
   "nbconvert_exporter": "python",
   "pygments_lexer": "ipython3",
   "version": "3.7.4"
  }
 },
 "nbformat": 4,
 "nbformat_minor": 2
}
